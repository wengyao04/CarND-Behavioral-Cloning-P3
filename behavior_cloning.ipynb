{
 "cells": [
  {
   "cell_type": "code",
   "execution_count": 1,
   "metadata": {},
   "outputs": [
    {
     "data": {
      "text/html": [
       "<div>\n",
       "<style>\n",
       "    .dataframe thead tr:only-child th {\n",
       "        text-align: right;\n",
       "    }\n",
       "\n",
       "    .dataframe thead th {\n",
       "        text-align: left;\n",
       "    }\n",
       "\n",
       "    .dataframe tbody tr th {\n",
       "        vertical-align: top;\n",
       "    }\n",
       "</style>\n",
       "<table border=\"1\" class=\"dataframe\">\n",
       "  <thead>\n",
       "    <tr style=\"text-align: right;\">\n",
       "      <th></th>\n",
       "      <th>center</th>\n",
       "      <th>left</th>\n",
       "      <th>right</th>\n",
       "      <th>steering</th>\n",
       "      <th>throttle</th>\n",
       "      <th>brake</th>\n",
       "      <th>speed</th>\n",
       "    </tr>\n",
       "  </thead>\n",
       "  <tbody>\n",
       "    <tr>\n",
       "      <th>0</th>\n",
       "      <td>IMG/center_2016_12_01_13_30_48_287.jpg</td>\n",
       "      <td>IMG/left_2016_12_01_13_30_48_287.jpg</td>\n",
       "      <td>IMG/right_2016_12_01_13_30_48_287.jpg</td>\n",
       "      <td>0.0</td>\n",
       "      <td>0.0</td>\n",
       "      <td>0.0</td>\n",
       "      <td>22.148290</td>\n",
       "    </tr>\n",
       "    <tr>\n",
       "      <th>1</th>\n",
       "      <td>IMG/center_2016_12_01_13_30_48_404.jpg</td>\n",
       "      <td>IMG/left_2016_12_01_13_30_48_404.jpg</td>\n",
       "      <td>IMG/right_2016_12_01_13_30_48_404.jpg</td>\n",
       "      <td>0.0</td>\n",
       "      <td>0.0</td>\n",
       "      <td>0.0</td>\n",
       "      <td>21.879630</td>\n",
       "    </tr>\n",
       "    <tr>\n",
       "      <th>2</th>\n",
       "      <td>IMG/center_2016_12_01_13_31_12_937.jpg</td>\n",
       "      <td>IMG/left_2016_12_01_13_31_12_937.jpg</td>\n",
       "      <td>IMG/right_2016_12_01_13_31_12_937.jpg</td>\n",
       "      <td>0.0</td>\n",
       "      <td>0.0</td>\n",
       "      <td>0.0</td>\n",
       "      <td>1.453011</td>\n",
       "    </tr>\n",
       "    <tr>\n",
       "      <th>3</th>\n",
       "      <td>IMG/center_2016_12_01_13_31_13_037.jpg</td>\n",
       "      <td>IMG/left_2016_12_01_13_31_13_037.jpg</td>\n",
       "      <td>IMG/right_2016_12_01_13_31_13_037.jpg</td>\n",
       "      <td>0.0</td>\n",
       "      <td>0.0</td>\n",
       "      <td>0.0</td>\n",
       "      <td>1.438419</td>\n",
       "    </tr>\n",
       "    <tr>\n",
       "      <th>4</th>\n",
       "      <td>IMG/center_2016_12_01_13_31_13_177.jpg</td>\n",
       "      <td>IMG/left_2016_12_01_13_31_13_177.jpg</td>\n",
       "      <td>IMG/right_2016_12_01_13_31_13_177.jpg</td>\n",
       "      <td>0.0</td>\n",
       "      <td>0.0</td>\n",
       "      <td>0.0</td>\n",
       "      <td>1.418236</td>\n",
       "    </tr>\n",
       "  </tbody>\n",
       "</table>\n",
       "</div>"
      ],
      "text/plain": [
       "                                   center  \\\n",
       "0  IMG/center_2016_12_01_13_30_48_287.jpg   \n",
       "1  IMG/center_2016_12_01_13_30_48_404.jpg   \n",
       "2  IMG/center_2016_12_01_13_31_12_937.jpg   \n",
       "3  IMG/center_2016_12_01_13_31_13_037.jpg   \n",
       "4  IMG/center_2016_12_01_13_31_13_177.jpg   \n",
       "\n",
       "                                    left  \\\n",
       "0   IMG/left_2016_12_01_13_30_48_287.jpg   \n",
       "1   IMG/left_2016_12_01_13_30_48_404.jpg   \n",
       "2   IMG/left_2016_12_01_13_31_12_937.jpg   \n",
       "3   IMG/left_2016_12_01_13_31_13_037.jpg   \n",
       "4   IMG/left_2016_12_01_13_31_13_177.jpg   \n",
       "\n",
       "                                    right  steering  throttle  brake  \\\n",
       "0   IMG/right_2016_12_01_13_30_48_287.jpg       0.0       0.0    0.0   \n",
       "1   IMG/right_2016_12_01_13_30_48_404.jpg       0.0       0.0    0.0   \n",
       "2   IMG/right_2016_12_01_13_31_12_937.jpg       0.0       0.0    0.0   \n",
       "3   IMG/right_2016_12_01_13_31_13_037.jpg       0.0       0.0    0.0   \n",
       "4   IMG/right_2016_12_01_13_31_13_177.jpg       0.0       0.0    0.0   \n",
       "\n",
       "       speed  \n",
       "0  22.148290  \n",
       "1  21.879630  \n",
       "2   1.453011  \n",
       "3   1.438419  \n",
       "4   1.418236  "
      ]
     },
     "metadata": {},
     "output_type": "display_data"
    }
   ],
   "source": [
    "import pandas as pd\n",
    "from IPython.display import display\n",
    "df = pd.read_csv('./data/driving_log.csv')\n",
    "display(df.head(n=5))"
   ]
  },
  {
   "cell_type": "code",
   "execution_count": 24,
   "metadata": {
    "collapsed": true
   },
   "outputs": [],
   "source": [
    "from sklearn.cross_validation import train_test_split\n",
    "df_train, df_val = train_test_split(df, test_size=0.2)"
   ]
  },
  {
   "cell_type": "code",
   "execution_count": 47,
   "metadata": {},
   "outputs": [
    {
     "name": "stdout",
     "output_type": "stream",
     "text": [
      "./data/IMG/center_2016_12_01_13_30_48_287.jpg\n",
      "./data/IMG/center_2016_12_01_13_30_48_404.jpg\n",
      "./data/IMG/center_2016_12_01_13_31_12_937.jpg\n",
      "./data/IMG/center_2016_12_01_13_31_13_037.jpg\n"
     ]
    }
   ],
   "source": [
    "import numpy as np\n",
    "#print(df.shape)\n",
    "#print(df.count())\n",
    "test = df.iloc[0:4]\n",
    "for index, row in test.iterrows():\n",
    "    print(os.path.join('./data', row[CENTER]))"
   ]
  },
  {
   "cell_type": "code",
   "execution_count": 23,
   "metadata": {
    "collapsed": true
   },
   "outputs": [],
   "source": [
    "CENTER = \"center\"\n",
    "LEFT = \"left\"\n",
    "RIGHT = \"right\"\n",
    "STEERING = \"steering\""
   ]
  },
  {
   "cell_type": "code",
   "execution_count": 50,
   "metadata": {},
   "outputs": [],
   "source": [
    "import os\n",
    "import cv2\n",
    "import numpy as np\n",
    "from sklearn.utils import shuffle\n",
    "def generator(df, batch_size=32):\n",
    "    num_samples = df.shape[0] #or df['center'].count()\n",
    "    while 1:\n",
    "        shuffle(df) # or df.sample(frac=1).reset_index(drop=True)\n",
    "        for offset in range(0, num_samples, batch_size):\n",
    "            df_batch = df.iloc[offset:offset + batch_size] #slice wont raise out of bound exception\n",
    "            images = []\n",
    "            angles = []\n",
    "            for index, row in df_batch.iterrows():\n",
    "                center_image = cv2.imread(os.path.join('./data', row[CENTER]))\n",
    "                center_image = cv2.cvtColor(center_image, cv2.COLOR_BGR2RGB)\n",
    "                angle = row[STEERING]\n",
    "                images.append(center_image)\n",
    "                angles.append(angle)\n",
    "            X_train = np.array(images)\n",
    "            y_train = np.array(angles)\n",
    "            yield X_train, y_train"
   ]
  },
  {
   "cell_type": "code",
   "execution_count": 25,
   "metadata": {},
   "outputs": [
    {
     "name": "stderr",
     "output_type": "stream",
     "text": [
      "Using TensorFlow backend.\n"
     ]
    }
   ],
   "source": [
    "from keras.models import Sequential\n",
    "from keras.layers import Input, Lambda\n",
    "from keras.layers import Dropout, Dense, Flatten\n",
    "from keras.layers import Conv2D, MaxPooling2D, Cropping2D\n",
    "from keras.layers.normalization import BatchNormalization\n",
    "from keras.optimizers import Adam\n",
    "from keras.callbacks import EarlyStopping, ModelCheckpoint"
   ]
  },
  {
   "cell_type": "code",
   "execution_count": 30,
   "metadata": {},
   "outputs": [],
   "source": [
    "model = Sequential()\n",
    "model.add(Cropping2D(cropping=((40, 40), (0, 0)), input_shape=(160, 320, 3)))\n",
    "model.add(BatchNormalization())\n",
    "model.add(Conv2D(96, (3, 3), activation='relu', padding='same'))\n",
    "model.add(MaxPooling2D(pool_size=(3, 3)))\n",
    "model.add(Conv2D(64, (3, 3), activation='relu', padding='same'))\n",
    "model.add(MaxPooling2D(pool_size=(3, 3)))\n",
    "model.add(Flatten())\n",
    "model.add(Dense(384, activation='relu'))\n",
    "model.add(Dropout(0.7))\n",
    "model.add(Dense(192, activation='relu'))\n",
    "model.add(Dropout(0.7))\n",
    "model.add(Dense(1))"
   ]
  },
  {
   "cell_type": "code",
   "execution_count": 31,
   "metadata": {
    "collapsed": true
   },
   "outputs": [],
   "source": [
    "callbacks = [EarlyStopping(monitor='val_loss', patience=30, verbose=0),\n",
    "             ModelCheckpoint('model.hdf5', monitor='val_loss', save_best_only=True, verbose=0)]"
   ]
  },
  {
   "cell_type": "code",
   "execution_count": 53,
   "metadata": {},
   "outputs": [
    {
     "name": "stdout",
     "output_type": "stream",
     "text": [
      "Epoch 1/20\n",
      "200/200 [==============================] - 15s - loss: 0.0082 - acc: 0.5427 - val_loss: 0.0113 - val_acc: 0.5413\n",
      "Epoch 2/20\n",
      "200/200 [==============================] - 15s - loss: 0.0080 - acc: 0.5424 - val_loss: 0.0114 - val_acc: 0.5457\n",
      "Epoch 3/20\n",
      "200/200 [==============================] - 15s - loss: 0.0080 - acc: 0.5433 - val_loss: 0.0112 - val_acc: 0.5457\n",
      "Epoch 4/20\n",
      "200/200 [==============================] - 15s - loss: 0.0077 - acc: 0.5427 - val_loss: 0.0112 - val_acc: 0.5431\n",
      "Epoch 5/20\n",
      "200/200 [==============================] - 15s - loss: 0.0077 - acc: 0.5421 - val_loss: 0.0117 - val_acc: 0.5400\n",
      "Epoch 6/20\n",
      "200/200 [==============================] - 15s - loss: 0.0072 - acc: 0.5426 - val_loss: 0.0108 - val_acc: 0.5400\n",
      "Epoch 7/20\n",
      "200/200 [==============================] - 15s - loss: 0.0072 - acc: 0.5427 - val_loss: 0.0116 - val_acc: 0.5438\n",
      "Epoch 8/20\n",
      "200/200 [==============================] - 15s - loss: 0.0067 - acc: 0.5433 - val_loss: 0.0114 - val_acc: 0.5438\n",
      "Epoch 9/20\n",
      "200/200 [==============================] - 15s - loss: 0.0068 - acc: 0.5430 - val_loss: 0.0110 - val_acc: 0.5419\n",
      "Epoch 10/20\n",
      "200/200 [==============================] - 15s - loss: 0.0067 - acc: 0.5426 - val_loss: 0.0110 - val_acc: 0.5438\n",
      "Epoch 11/20\n",
      "200/200 [==============================] - 15s - loss: 0.0062 - acc: 0.5430 - val_loss: 0.0107 - val_acc: 0.5412\n",
      "Epoch 12/20\n",
      "200/200 [==============================] - 15s - loss: 0.0062 - acc: 0.5426 - val_loss: 0.0114 - val_acc: 0.5368\n",
      "Epoch 13/20\n",
      "200/200 [==============================] - 15s - loss: 0.0063 - acc: 0.5432 - val_loss: 0.0113 - val_acc: 0.5393\n",
      "Epoch 14/20\n",
      "200/200 [==============================] - 15s - loss: 0.0061 - acc: 0.5435 - val_loss: 0.0109 - val_acc: 0.5412\n",
      "Epoch 15/20\n",
      "200/200 [==============================] - 15s - loss: 0.0061 - acc: 0.5424 - val_loss: 0.0107 - val_acc: 0.5412\n",
      "Epoch 16/20\n",
      "200/200 [==============================] - 15s - loss: 0.0061 - acc: 0.5427 - val_loss: 0.0113 - val_acc: 0.5393\n",
      "Epoch 17/20\n",
      "200/200 [==============================] - 15s - loss: 0.0058 - acc: 0.5435 - val_loss: 0.0112 - val_acc: 0.5393\n",
      "Epoch 18/20\n",
      "200/200 [==============================] - 15s - loss: 0.0060 - acc: 0.5433 - val_loss: 0.0107 - val_acc: 0.5406\n",
      "Epoch 19/20\n",
      "200/200 [==============================] - 15s - loss: 0.0058 - acc: 0.5433 - val_loss: 0.0114 - val_acc: 0.5444\n",
      "Epoch 20/20\n",
      "200/200 [==============================] - 15s - loss: 0.0054 - acc: 0.5432 - val_loss: 0.0109 - val_acc: 0.5444\n"
     ]
    }
   ],
   "source": [
    "EPOCHS = 20\n",
    "adam_opt=Adam(lr=5e-5)\n",
    "model.compile(adam_opt, 'mse', ['accuracy'])\n",
    "model_history = model.fit_generator(generator(df_train), epochs=EPOCHS,\n",
    "                                    steps_per_epoch=int(df_train.shape[0]/32),\n",
    "                                    validation_data=generator(df_val),\n",
    "                                    validation_steps=int(df_val.shape[0]/32),\n",
    "                                    callbacks = callbacks)"
   ]
  },
  {
   "cell_type": "code",
   "execution_count": null,
   "metadata": {
    "collapsed": true
   },
   "outputs": [],
   "source": []
  }
 ],
 "metadata": {
  "kernelspec": {
   "display_name": "Python 3",
   "language": "python",
   "name": "python3"
  },
  "language_info": {
   "codemirror_mode": {
    "name": "ipython",
    "version": 3
   },
   "file_extension": ".py",
   "mimetype": "text/x-python",
   "name": "python",
   "nbconvert_exporter": "python",
   "pygments_lexer": "ipython3",
   "version": "3.5.2"
  },
  "widgets": {
   "state": {},
   "version": "1.1.2"
  }
 },
 "nbformat": 4,
 "nbformat_minor": 2
}
